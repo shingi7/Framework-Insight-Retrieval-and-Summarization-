{
 "cells": [
  {
   "cell_type": "code",
   "execution_count": 1,
   "id": "77f367e6-12bf-4f64-b729-abc53e2ce3eb",
   "metadata": {},
   "outputs": [
    {
     "name": "stderr",
     "output_type": "stream",
     "text": [
      "2024-12-04 09:47:45.390201: I tensorflow/core/platform/cpu_feature_guard.cc:210] This TensorFlow binary is optimized to use available CPU instructions in performance-critical operations.\n",
      "To enable the following instructions: SSE4.1 SSE4.2 AVX AVX2 AVX512F FMA, in other operations, rebuild TensorFlow with the appropriate compiler flags.\n",
      "/opt/conda/lib/python3.11/site-packages/huggingface_hub/file_download.py:1142: FutureWarning: `resume_download` is deprecated and will be removed in version 1.0.0. Downloads always resume when possible. If you want to force a new download, use `force_download=True`.\n",
      "  warnings.warn(\n"
     ]
    },
    {
     "data": {
      "application/vnd.jupyter.widget-view+json": {
       "model_id": "2480334c746146f8aad99bd020d260dc",
       "version_major": 2,
       "version_minor": 0
      },
      "text/plain": [
       "config.json:   0%|          | 0.00/4.60k [00:00<?, ?B/s]"
      ]
     },
     "metadata": {},
     "output_type": "display_data"
    },
    {
     "data": {
      "application/vnd.jupyter.widget-view+json": {
       "model_id": "eaafb1fb6c604eb5b76b3f3877872fd2",
       "version_major": 2,
       "version_minor": 0
      },
      "text/plain": [
       "(…)_encoder_tokenizer/tokenizer_config.json:   0%|          | 0.00/48.0 [00:00<?, ?B/s]"
      ]
     },
     "metadata": {},
     "output_type": "display_data"
    },
    {
     "data": {
      "application/vnd.jupyter.widget-view+json": {
       "model_id": "f12ecd9b7810467488a50cd6dae7d141",
       "version_major": 2,
       "version_minor": 0
      },
      "text/plain": [
       "question_encoder_tokenizer/vocab.txt:   0%|          | 0.00/232k [00:00<?, ?B/s]"
      ]
     },
     "metadata": {},
     "output_type": "display_data"
    },
    {
     "data": {
      "application/vnd.jupyter.widget-view+json": {
       "model_id": "aa17300741864b73813da0940b9927e2",
       "version_major": 2,
       "version_minor": 0
      },
      "text/plain": [
       "(…)ncoder_tokenizer/special_tokens_map.json:   0%|          | 0.00/112 [00:00<?, ?B/s]"
      ]
     },
     "metadata": {},
     "output_type": "display_data"
    },
    {
     "name": "stderr",
     "output_type": "stream",
     "text": [
      "The tokenizer class you load from this checkpoint is not the same type as the class this function is called from. It may result in unexpected tokenization. \n",
      "The tokenizer class you load from this checkpoint is 'RagTokenizer'. \n",
      "The class this function is called from is 'DPRQuestionEncoderTokenizer'.\n",
      "The tokenizer class you load from this checkpoint is not the same type as the class this function is called from. It may result in unexpected tokenization. \n",
      "The tokenizer class you load from this checkpoint is 'RagTokenizer'. \n",
      "The class this function is called from is 'DPRQuestionEncoderTokenizerFast'.\n"
     ]
    },
    {
     "data": {
      "application/vnd.jupyter.widget-view+json": {
       "model_id": "ab3f0a12445a4686a0b96de95de918ea",
       "version_major": 2,
       "version_minor": 0
      },
      "text/plain": [
       "(…)enerator_tokenizer/tokenizer_config.json:   0%|          | 0.00/26.0 [00:00<?, ?B/s]"
      ]
     },
     "metadata": {},
     "output_type": "display_data"
    },
    {
     "data": {
      "application/vnd.jupyter.widget-view+json": {
       "model_id": "4183aa98b1814559b5fe3feb5fdda871",
       "version_major": 2,
       "version_minor": 0
      },
      "text/plain": [
       "generator_tokenizer/vocab.json:   0%|          | 0.00/899k [00:00<?, ?B/s]"
      ]
     },
     "metadata": {},
     "output_type": "display_data"
    },
    {
     "data": {
      "application/vnd.jupyter.widget-view+json": {
       "model_id": "cc3f731cd3554378a4543b7822ac41ee",
       "version_major": 2,
       "version_minor": 0
      },
      "text/plain": [
       "generator_tokenizer/merges.txt:   0%|          | 0.00/456k [00:00<?, ?B/s]"
      ]
     },
     "metadata": {},
     "output_type": "display_data"
    },
    {
     "data": {
      "application/vnd.jupyter.widget-view+json": {
       "model_id": "b96145af1112442886c19ae4bedad505",
       "version_major": 2,
       "version_minor": 0
      },
      "text/plain": [
       "(…)erator_tokenizer/special_tokens_map.json:   0%|          | 0.00/772 [00:00<?, ?B/s]"
      ]
     },
     "metadata": {},
     "output_type": "display_data"
    },
    {
     "name": "stderr",
     "output_type": "stream",
     "text": [
      "The tokenizer class you load from this checkpoint is not the same type as the class this function is called from. It may result in unexpected tokenization. \n",
      "The tokenizer class you load from this checkpoint is 'RagTokenizer'. \n",
      "The class this function is called from is 'BartTokenizer'.\n",
      "The tokenizer class you load from this checkpoint is not the same type as the class this function is called from. It may result in unexpected tokenization. \n",
      "The tokenizer class you load from this checkpoint is 'RagTokenizer'. \n",
      "The class this function is called from is 'BartTokenizerFast'.\n"
     ]
    },
    {
     "data": {
      "application/vnd.jupyter.widget-view+json": {
       "model_id": "d6d980037475441cb523bb7189029d3f",
       "version_major": 2,
       "version_minor": 0
      },
      "text/plain": [
       "pytorch_model.bin:   0%|          | 0.00/2.06G [00:00<?, ?B/s]"
      ]
     },
     "metadata": {},
     "output_type": "display_data"
    }
   ],
   "source": [
    "import faiss\n",
    "import json\n",
    "from transformers import AutoTokenizer, RagRetriever, RagTokenForGeneration\n",
    "\n",
    "# Load FAISS index\n",
    "index = faiss.read_index(\"legal_cases_index.faiss\")\n",
    "\n",
    "# Load metadata\n",
    "with open(\"metadata.json\", \"r\") as f:\n",
    "    metadata = json.load(f)\n",
    "\n",
    "# Load RAG model and tokenizer\n",
    "rag_tokenizer = AutoTokenizer.from_pretrained(\"facebook/rag-sequence-nq\")\n",
    "rag_model = RagTokenForGeneration.from_pretrained(\"facebook/rag-sequence-nq\")\n"
   ]
  },
  {
   "cell_type": "code",
   "execution_count": 4,
   "id": "f49114ac-cebc-4dfb-8b98-86fcc50de675",
   "metadata": {},
   "outputs": [],
   "source": [
    "from transformers import AutoTokenizer, AutoModel\n",
    "\n",
    "# Load the embedding model and tokenizer\n",
    "embedding_model = AutoModel.from_pretrained(\"sentence-transformers/all-MiniLM-L6-v2\")\n",
    "tokenizer = AutoTokenizer.from_pretrained(\"sentence-transformers/all-MiniLM-L6-v2\")\n"
   ]
  },
  {
   "cell_type": "code",
   "execution_count": 11,
   "id": "4c6000da-c817-42ae-a7a0-7788dc3f457a",
   "metadata": {},
   "outputs": [
    {
     "name": "stdout",
     "output_type": "stream",
     "text": [
      "\n",
      "Top Retrieved Passages:\n",
      "Passage 1: ht of the parent, or other person irr loco parentis, to object to the enlistment of a minor in the navy, is clearly limited to cases where the minor is but 18 years of age. Jf he is above that age, and under 21 years of age, he can bind himself by enlisting until he attains his majority, at which ti\n",
      "Passage 2: hority that enlistments in the navy, though, made without consent of the parent or guardian, are binding, and the minor cannot avoid them. See U. S. v. Bainbridge, 1 Mason, 71, Fed. Cas. No. 14,497; U. S. v. Blakeney, 3 Grat. 405.\n",
      "But it is otherwise as to enlistments in the army. The distinction is\n",
      "Passage 3:  statute since that time.\n",
      "By an act of Congress approved May 12, 1879 (21 Stat. 3, c. 5), it is provided that no minor under the age of 15 years shall be enlisted in the naval service. Supplement to Rev. St. vol. 1, p. 484 [Q. S. Comp. St. 1901, pp. 1007, 1008]. During the session of Congress of 188\n",
      "Passage 4:  to be 18 years and 7 months. The question presented is, can a minor over\" 18 years of age bind himself by a contract of enlistment in the United States navy, without the consent of his parents or guardian ?\n",
      "Section 1418, Rev. St. [U. S. Comp. St. 1901, p. 1007], provides that “boys between the ages\n",
      "Passage 5:  as to the right of a minor over the age of 18 years to bind himself by a contract of enlistment. It will be observed that there is- a difference in the matter of legal enlistments in the army and in the navy in regard to age. Section 1117, Rev. St. [U. S. Comp. St. 1901, p. 813], in relation to enl\n",
      "\n",
      "Tokenized Passage:\n",
      "{'input_ids': tensor([[  101,  1044,  2102,  1997,  1996,  6687,  1010,  2030,  2060,  2711,\n",
      "         20868,  2099, 28046,  6687,  2483,  1010,  2000,  4874,  2000,  1996,\n",
      "         28845,  3672,  1997,  1037,  3576,  1999,  1996,  3212,  1010,  2003,\n",
      "          4415,  3132,  2000,  3572,  2073,  1996,  3576,  2003,  2021,  2324,\n",
      "          2086,  1997,  2287,  1012,  1046,  2546,  2002,  2003,  2682,  2008,\n",
      "          2287,  1010,  1998,  2104,  2538,  2086,  1997,  2287,  1010,  2002,\n",
      "          2064, 14187,  2370,  2011, 28845,  2075,  2127,  2002, 18759,  2015,\n",
      "          2010,  3484,  1010,  2012,  2029, 14841,   102]]), 'token_type_ids': tensor([[0, 0, 0, 0, 0, 0, 0, 0, 0, 0, 0, 0, 0, 0, 0, 0, 0, 0, 0, 0, 0, 0, 0, 0,\n",
      "         0, 0, 0, 0, 0, 0, 0, 0, 0, 0, 0, 0, 0, 0, 0, 0, 0, 0, 0, 0, 0, 0, 0, 0,\n",
      "         0, 0, 0, 0, 0, 0, 0, 0, 0, 0, 0, 0, 0, 0, 0, 0, 0, 0, 0, 0, 0, 0, 0, 0,\n",
      "         0, 0, 0, 0, 0]]), 'attention_mask': tensor([[1, 1, 1, 1, 1, 1, 1, 1, 1, 1, 1, 1, 1, 1, 1, 1, 1, 1, 1, 1, 1, 1, 1, 1,\n",
      "         1, 1, 1, 1, 1, 1, 1, 1, 1, 1, 1, 1, 1, 1, 1, 1, 1, 1, 1, 1, 1, 1, 1, 1,\n",
      "         1, 1, 1, 1, 1, 1, 1, 1, 1, 1, 1, 1, 1, 1, 1, 1, 1, 1, 1, 1, 1, 1, 1, 1,\n",
      "         1, 1, 1, 1, 1]])}\n"
     ]
    }
   ],
   "source": [
    "def embed_text(text):\n",
    "    inputs = tokenizer(text, return_tensors=\"pt\", padding=True, truncation=True)\n",
    "    embeddings = embedding_model(**inputs).last_hidden_state.mean(dim=1).detach().numpy()\n",
    "    return embeddings\n",
    "\n",
    "# functions\n",
    "def retrieve_passages(query, top_k=5):\n",
    "    query_embedding = embed_text(query)\n",
    "    _, indices = index.search(query_embedding, k=top_k)\n",
    "    return [metadata[idx][\"text\"] for idx in indices[0]]\n",
    "\n",
    "query = \"What is the ruling on minors' ability to enlist in the navy?\"\n",
    "passages = retrieve_passages(query, top_k=5)\n",
    "\n",
    "# Debug: Print passages\n",
    "print(\"\\nTop Retrieved Passages:\")\n",
    "for i, passage in enumerate(passages):\n",
    "    print(f\"Passage {i+1}: {passage}\")\n",
    "\n",
    "\n",
    "# Debug: Check tokenization of a sample passage\n",
    "sample_passage = passages[0]  # Use the first retrieved passage\n",
    "tokenized_passage = rag_tokenizer(sample_passage, return_tensors=\"pt\", padding=True, truncation=True)\n",
    "print(\"\\nTokenized Passage:\")\n",
    "print(tokenized_passage)\n",
    "\n",
    "\n",
    "def generate_summary(query, passages):\n",
    "    # Tokenize query\n",
    "    input_ids = rag_tokenizer(query, return_tensors=\"pt\").input_ids\n",
    "\n",
    "    # Tokenize passages as context\n",
    "    context_input_ids = []\n",
    "    for passage in passages:\n",
    "        context_input = rag_tokenizer(passage, return_tensors=\"pt\", padding=True, truncation=True).input_ids\n",
    "        context_input_ids.append(context_input)\n",
    "\n",
    "    # Combine context input IDs\n",
    "    context_input_ids = torch.cat(context_input_ids, dim=0)\n",
    "\n",
    "    # Generate response using the model\n",
    "    generated_ids = rag_model.generate(\n",
    "        input_ids=input_ids,\n",
    "        context_input_ids=context_input_ids\n",
    "    )\n",
    "\n",
    "    # Decode and return the generated text\n",
    "    return rag_tokenizer.decode(generated_ids[0], skip_special_tokens=True)\n"
   ]
  },
  {
   "cell_type": "code",
   "execution_count": 12,
   "id": "543242fe-2a87-404e-a3b3-06f3f8053c88",
   "metadata": {},
   "outputs": [
    {
     "name": "stdout",
     "output_type": "stream",
     "text": [
      "Query: What is the ruling on minors' ability to enlist in the navy?\n",
      "\n",
      "Top Retrieved Passages:\n",
      "1. ht of the parent, or other person irr loco parentis, to object to the enlistment of a minor in the navy, is clearly limited to cases where the minor is but 18 years of age. Jf he is above that age, and under 21 years of age, he can bind himself by enlisting until he attains his majority, at which ti\n",
      "2. hority that enlistments in the navy, though, made without consent of the parent or guardian, are binding, and the minor cannot avoid them. See U. S. v. Bainbridge, 1 Mason, 71, Fed. Cas. No. 14,497; U. S. v. Blakeney, 3 Grat. 405.\n",
      "But it is otherwise as to enlistments in the army. The distinction is\n",
      "3.  statute since that time.\n",
      "By an act of Congress approved May 12, 1879 (21 Stat. 3, c. 5), it is provided that no minor under the age of 15 years shall be enlisted in the naval service. Supplement to Rev. St. vol. 1, p. 484 [Q. S. Comp. St. 1901, pp. 1007, 1008]. During the session of Congress of 188\n",
      "4.  to be 18 years and 7 months. The question presented is, can a minor over\" 18 years of age bind himself by a contract of enlistment in the United States navy, without the consent of his parents or guardian ?\n",
      "Section 1418, Rev. St. [U. S. Comp. St. 1901, p. 1007], provides that “boys between the ages\n",
      "5.  as to the right of a minor over the age of 18 years to bind himself by a contract of enlistment. It will be observed that there is- a difference in the matter of legal enlistments in the army and in the navy in regard to age. Section 1117, Rev. St. [U. S. Comp. St. 1901, p. 813], in relation to enl\n"
     ]
    },
    {
     "ename": "NameError",
     "evalue": "name 'torch' is not defined",
     "output_type": "error",
     "traceback": [
      "\u001b[0;31m---------------------------------------------------------------------------\u001b[0m",
      "\u001b[0;31mNameError\u001b[0m                                 Traceback (most recent call last)",
      "Cell \u001b[0;32mIn[12], line 10\u001b[0m\n\u001b[1;32m      7\u001b[0m \u001b[38;5;28;01mfor\u001b[39;00m i, passage \u001b[38;5;129;01min\u001b[39;00m \u001b[38;5;28menumerate\u001b[39m(passages, \u001b[38;5;241m1\u001b[39m):\n\u001b[1;32m      8\u001b[0m     \u001b[38;5;28mprint\u001b[39m(\u001b[38;5;124mf\u001b[39m\u001b[38;5;124m\"\u001b[39m\u001b[38;5;132;01m{\u001b[39;00mi\u001b[38;5;132;01m}\u001b[39;00m\u001b[38;5;124m. \u001b[39m\u001b[38;5;132;01m{\u001b[39;00mpassage\u001b[38;5;132;01m}\u001b[39;00m\u001b[38;5;124m\"\u001b[39m)\n\u001b[0;32m---> 10\u001b[0m summary \u001b[38;5;241m=\u001b[39m \u001b[43mgenerate_summary\u001b[49m\u001b[43m(\u001b[49m\u001b[43mquery\u001b[49m\u001b[43m,\u001b[49m\u001b[43m \u001b[49m\u001b[43mpassages\u001b[49m\u001b[43m)\u001b[49m\n\u001b[1;32m     11\u001b[0m \u001b[38;5;28mprint\u001b[39m(\u001b[38;5;124m\"\u001b[39m\u001b[38;5;130;01m\\n\u001b[39;00m\u001b[38;5;124mSummary:\u001b[39m\u001b[38;5;124m\"\u001b[39m, summary)\n",
      "Cell \u001b[0;32mIn[11], line 39\u001b[0m, in \u001b[0;36mgenerate_summary\u001b[0;34m(query, passages)\u001b[0m\n\u001b[1;32m     36\u001b[0m     context_input_ids\u001b[38;5;241m.\u001b[39mappend(context_input)\n\u001b[1;32m     38\u001b[0m \u001b[38;5;66;03m# Combine context input IDs\u001b[39;00m\n\u001b[0;32m---> 39\u001b[0m context_input_ids \u001b[38;5;241m=\u001b[39m \u001b[43mtorch\u001b[49m\u001b[38;5;241m.\u001b[39mcat(context_input_ids, dim\u001b[38;5;241m=\u001b[39m\u001b[38;5;241m0\u001b[39m)\n\u001b[1;32m     41\u001b[0m \u001b[38;5;66;03m# Generate response using the model\u001b[39;00m\n\u001b[1;32m     42\u001b[0m generated_ids \u001b[38;5;241m=\u001b[39m rag_model\u001b[38;5;241m.\u001b[39mgenerate(\n\u001b[1;32m     43\u001b[0m     input_ids\u001b[38;5;241m=\u001b[39minput_ids,\n\u001b[1;32m     44\u001b[0m     context_input_ids\u001b[38;5;241m=\u001b[39mcontext_input_ids\n\u001b[1;32m     45\u001b[0m )\n",
      "\u001b[0;31mNameError\u001b[0m: name 'torch' is not defined"
     ]
    }
   ],
   "source": [
    "# Test with a query\n",
    "query = \"What is the ruling on minors' ability to enlist in the navy?\"\n",
    "print(f\"Query: {query}\")\n",
    "\n",
    "passages = retrieve_passages(query, top_k=5)\n",
    "print(\"\\nTop Retrieved Passages:\")\n",
    "for i, passage in enumerate(passages, 1):\n",
    "    print(f\"{i}. {passage}\")\n",
    "\n",
    "summary = generate_summary(query, passages)\n",
    "print(\"\\nSummary:\", summary)"
   ]
  },
  {
   "cell_type": "code",
   "execution_count": 10,
   "id": "77b1130e-2a16-4bf2-9e4f-26b13af01639",
   "metadata": {},
   "outputs": [
    {
     "name": "stdout",
     "output_type": "stream",
     "text": [
      "FAISS index dimension: 384\n",
      "Embedding model output dimension: 384\n"
     ]
    }
   ],
   "source": [
    "print(f\"FAISS index dimension: {index.d}\")\n",
    "print(f\"Embedding model output dimension: {embedding_model.config.hidden_size}\")"
   ]
  }
 ],
 "metadata": {
  "kernelspec": {
   "display_name": "Python 3 (ipykernel)",
   "language": "python",
   "name": "python3"
  },
  "language_info": {
   "codemirror_mode": {
    "name": "ipython",
    "version": 3
   },
   "file_extension": ".py",
   "mimetype": "text/x-python",
   "name": "python",
   "nbconvert_exporter": "python",
   "pygments_lexer": "ipython3",
   "version": "3.11.10"
  }
 },
 "nbformat": 4,
 "nbformat_minor": 5
}
